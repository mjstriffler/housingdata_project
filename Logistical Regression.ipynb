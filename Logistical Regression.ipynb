{
 "cells": [
  {
   "cell_type": "code",
   "execution_count": 22,
   "metadata": {},
   "outputs": [],
   "source": [
    "import pandas as pd\n",
    "from sklearn.model_selection import train_test_split\n",
    "from sklearn.linear_model import LogisticRegression\n",
    "from sklearn import metrics\n",
    "import seaborn as sn\n",
    "import matplotlib.pyplot as plt"
   ]
  },
  {
   "cell_type": "code",
   "execution_count": 35,
   "metadata": {},
   "outputs": [
    {
     "data": {
      "text/html": [
       "<div>\n",
       "<style scoped>\n",
       "    .dataframe tbody tr th:only-of-type {\n",
       "        vertical-align: middle;\n",
       "    }\n",
       "\n",
       "    .dataframe tbody tr th {\n",
       "        vertical-align: top;\n",
       "    }\n",
       "\n",
       "    .dataframe thead th {\n",
       "        text-align: right;\n",
       "    }\n",
       "</style>\n",
       "<table border=\"1\" class=\"dataframe\">\n",
       "  <thead>\n",
       "    <tr style=\"text-align: right;\">\n",
       "      <th></th>\n",
       "      <th>State</th>\n",
       "      <th>net 2011</th>\n",
       "      <th>avg. home prices</th>\n",
       "    </tr>\n",
       "  </thead>\n",
       "  <tbody>\n",
       "    <tr>\n",
       "      <th>0</th>\n",
       "      <td>.Alabama</td>\n",
       "      <td>13632</td>\n",
       "      <td>117503.7500</td>\n",
       "    </tr>\n",
       "    <tr>\n",
       "      <th>1</th>\n",
       "      <td>.Alaska</td>\n",
       "      <td>8218</td>\n",
       "      <td>256963.8333</td>\n",
       "    </tr>\n",
       "    <tr>\n",
       "      <th>2</th>\n",
       "      <td>.Arizona</td>\n",
       "      <td>65471</td>\n",
       "      <td>139398.3333</td>\n",
       "    </tr>\n",
       "    <tr>\n",
       "      <th>3</th>\n",
       "      <td>.Arkansas</td>\n",
       "      <td>18703</td>\n",
       "      <td>104691.0833</td>\n",
       "    </tr>\n",
       "    <tr>\n",
       "      <th>4</th>\n",
       "      <td>.California</td>\n",
       "      <td>318867</td>\n",
       "      <td>312440.0000</td>\n",
       "    </tr>\n",
       "  </tbody>\n",
       "</table>\n",
       "</div>"
      ],
      "text/plain": [
       "         State  net 2011  avg. home prices\n",
       "0     .Alabama     13632       117503.7500\n",
       "1      .Alaska      8218       256963.8333\n",
       "2     .Arizona     65471       139398.3333\n",
       "3    .Arkansas     18703       104691.0833\n",
       "4  .California    318867       312440.0000"
      ]
     },
     "execution_count": 35,
     "metadata": {},
     "output_type": "execute_result"
    }
   ],
   "source": [
    "newdata = pd.read_excel('new_combined_data_test.xls')\n",
    "newdata.head()"
   ]
  },
  {
   "cell_type": "code",
   "execution_count": 71,
   "metadata": {},
   "outputs": [
    {
     "name": "stderr",
     "output_type": "stream",
     "text": [
      "/Users/SikCommunications/opt/anaconda3/lib/python3.8/site-packages/seaborn/_decorators.py:36: FutureWarning: Pass the following variable as a keyword arg: x. From version 0.12, the only valid positional argument will be `data`, and passing other arguments without an explicit keyword will result in an error or misinterpretation.\n",
      "  warnings.warn(\n"
     ]
    },
    {
     "data": {
      "image/png": "[encoded data removed]",
      "text/plain": [
       "<Figure size 432x288 with 1 Axes>"
      ]
     },
     "metadata": {
      "needs_background": "light"
     },
     "output_type": "display_data"
    }
   ],
   "source": [
    "sn.countplot('State', data=newdata)\n",
    "plt.show()"
   ]
  },
  {
   "cell_type": "code",
   "execution_count": 55,
   "metadata": {},
   "outputs": [],
   "source": [
    "#Set dependent and independent variables\n",
    "X = newdata['avg. home prices'].values.reshape(-1, 1)\n",
    "y = newdata['net 2011'].values.reshape(-1, 1)\n",
    "y = y.ravel()"
   ]
  },
  {
   "cell_type": "code",
   "execution_count": 56,
   "metadata": {},
   "outputs": [],
   "source": [
    "from sklearn.model_selection import train_test_split\n",
    "\n",
    "X_train, X_test, y_train, y_test = train_test_split(X, y, random_state=32)"
   ]
  },
  {
   "cell_type": "code",
   "execution_count": 64,
   "metadata": {},
   "outputs": [
    {
     "name": "stdout",
     "output_type": "stream",
     "text": [
      "              precision    recall  f1-score   support\n",
      "\n",
      "      -12713       0.00      0.00      0.00       1.0\n",
      "      -12144       0.00      0.00      0.00       1.0\n",
      "       -7575       0.00      0.00      0.00       1.0\n",
      "       -5284       0.00      0.00      0.00       1.0\n",
      "       -4871       0.00      0.00      0.00       1.0\n",
      "       -4721       0.00      0.00      0.00       0.0\n",
      "       -4425       0.00      0.00      0.00       1.0\n",
      "       -3487       0.00      0.00      0.00       1.0\n",
      "       -2551       0.00      0.00      0.00       1.0\n",
      "       -2126       0.00      0.00      0.00       1.0\n",
      "       -1756       0.00      0.00      0.00       1.0\n",
      "       -1559       0.00      0.00      0.00       1.0\n",
      "        -959       0.00      0.00      0.00       1.0\n",
      "        -555       0.00      0.00      0.00       1.0\n",
      "        -369       0.00      0.00      0.00       1.0\n",
      "        -310       0.00      0.00      0.00       1.0\n",
      "          14       0.00      0.00      0.00       1.0\n",
      "         500       0.00      0.00      0.00       1.0\n",
      "         655       0.00      0.00      0.00       1.0\n",
      "         855       0.00      0.00      0.00       1.0\n",
      "        1170       0.00      0.00      0.00       1.0\n",
      "        1757       0.00      0.00      0.00       1.0\n",
      "        3009       0.00      0.00      0.00       1.0\n",
      "        3055       0.00      0.00      0.00       1.0\n",
      "        3082       0.00      0.00      0.00       1.0\n",
      "        3138       0.00      0.00      0.00       1.0\n",
      "        3982       0.00      0.00      0.00       1.0\n",
      "        4088       0.00      0.00      0.00       1.0\n",
      "        4859       0.00      0.00      0.00       1.0\n",
      "        4985       0.00      0.00      0.00       1.0\n",
      "        5366       0.00      0.00      0.00       1.0\n",
      "        5830       0.00      0.00      0.00       1.0\n",
      "        6452       0.00      0.00      0.00       1.0\n",
      "        6719       0.00      0.00      0.00       1.0\n",
      "        7068       0.00      0.00      0.00       1.0\n",
      "        7798       0.00      0.00      0.00       1.0\n",
      "        7902       0.00      0.00      0.00       1.0\n",
      "        7955       0.00      0.00      0.00       1.0\n",
      "        7992       0.00      0.00      0.00       1.0\n",
      "        8071       0.00      0.00      0.00       1.0\n",
      "        8183       0.00      0.00      0.00       1.0\n",
      "        8285       0.00      0.00      0.00       1.0\n",
      "        8397       0.00      0.00      0.00       1.0\n",
      "        8656       0.00      0.00      0.00       1.0\n",
      "        8885       0.00      0.00      0.00       1.0\n",
      "        9191       0.00      0.00      0.00       1.0\n",
      "        9415       0.00      0.00      0.00       1.0\n",
      "        9854       0.00      0.00      0.00       1.0\n",
      "        9868       0.00      0.00      0.00       1.0\n",
      "        9872       0.00      0.00      0.00       1.0\n",
      "       10179       0.00      0.00      0.00       1.0\n",
      "       10331       0.00      0.00      0.00       1.0\n",
      "       10415       0.00      0.00      0.00       1.0\n",
      "       10510       0.00      0.00      0.00       1.0\n",
      "       11035       0.00      0.00      0.00       1.0\n",
      "       11130       0.00      0.00      0.00       1.0\n",
      "       11178       0.00      0.00      0.00       1.0\n",
      "       11414       0.00      0.00      0.00       1.0\n",
      "       11497       0.00      0.00      0.00       1.0\n",
      "       11610       0.00      0.00      0.00       1.0\n",
      "       11623       0.00      0.00      0.00       1.0\n",
      "       13164       0.00      0.00      0.00       1.0\n",
      "       13439       0.00      0.00      0.00       1.0\n",
      "       14086       0.00      0.00      0.00       1.0\n",
      "       14493       0.00      0.00      0.00       1.0\n",
      "       14953       0.00      0.00      0.00       1.0\n",
      "       15504       0.00      0.00      0.00       1.0\n",
      "       15898       0.00      0.00      0.00       1.0\n",
      "       15920       0.00      0.00      0.00       1.0\n",
      "       16348       0.00      0.00      0.00       1.0\n",
      "       16665       0.00      0.00      0.00       1.0\n",
      "       16794       0.00      0.00      0.00       1.0\n",
      "       16843       0.00      0.00      0.00       1.0\n",
      "       17220       0.00      0.00      0.00       1.0\n",
      "       17558       0.00      0.00      0.00       1.0\n",
      "       17761       0.00      0.00      0.00       1.0\n",
      "       22543       0.00      0.00      0.00       1.0\n",
      "       26951       0.00      0.00      0.00       1.0\n",
      "       27761       0.00      0.00      0.00       1.0\n",
      "       31266       0.00      0.00      0.00       1.0\n",
      "       34545       0.00      0.00      0.00       1.0\n",
      "       36345       0.00      0.00      0.00       1.0\n",
      "       36529       0.00      0.00      0.00       1.0\n",
      "       38261       0.00      0.00      0.00       1.0\n",
      "       38991       0.00      0.00      0.00       1.0\n",
      "       39052       0.00      0.00      0.00       1.0\n",
      "       40442       0.00      0.00      0.00       1.0\n",
      "       52548       0.00      0.00      0.00       1.0\n",
      "       53481       0.00      0.00      0.00       1.0\n",
      "       54840       0.00      0.00      0.00       1.0\n",
      "       57543       0.00      0.00      0.00       1.0\n",
      "       62789       0.00      0.00      0.00       1.0\n",
      "       62888       0.00      0.00      0.00       1.0\n",
      "       63300       0.00      0.00      0.00       1.0\n",
      "       66030       0.00      0.00      0.00       1.0\n",
      "       66927       0.00      0.00      0.00       1.0\n",
      "       71539       0.00      0.00      0.00       1.0\n",
      "       72670       0.00      0.00      0.00       1.0\n",
      "       76388       0.00      0.00      0.00       1.0\n",
      "       83269       0.00      0.00      0.00       1.0\n",
      "       83797       0.00      0.00      0.00       1.0\n",
      "       89551       0.00      0.00      0.00       1.0\n",
      "       90550       0.00      0.00      0.00       1.0\n",
      "       91024       0.00      0.00      0.00       1.0\n",
      "       94799       0.00      0.00      0.00       1.0\n",
      "       98759       0.00      0.00      0.00       1.0\n",
      "      100522       0.00      0.00      0.00       1.0\n",
      "      106469       0.00      0.00      0.00       1.0\n",
      "      108440       0.00      0.00      0.00       1.0\n",
      "      244585       0.00      0.00      0.00       1.0\n",
      "      280704       0.00      0.00      0.00       1.0\n",
      "      300290       0.00      0.00      0.00       1.0\n",
      "      350136       0.00      0.00      0.00       1.0\n",
      "      380863       0.00      0.00      0.00       1.0\n",
      "      395785       0.00      0.00      0.00       1.0\n",
      "      438852       0.00      0.00      0.00       1.0\n",
      "\n",
      "    accuracy                           0.00     115.0\n",
      "   macro avg       0.00      0.00      0.00     115.0\n",
      "weighted avg       0.00      0.00      0.00     115.0\n",
      "\n",
      "[[0 0 0 ... 0 0 0]\n",
      " [0 0 0 ... 0 0 0]\n",
      " [0 0 0 ... 0 0 0]\n",
      " ...\n",
      " [0 0 0 ... 0 0 0]\n",
      " [0 0 0 ... 0 0 0]\n",
      " [0 0 0 ... 0 0 0]]\n",
      "0.0\n"
     ]
    },
    {
     "name": "stderr",
     "output_type": "stream",
     "text": [
      "/Users/SikCommunications/opt/anaconda3/lib/python3.8/site-packages/sklearn/metrics/_classification.py:1221: UndefinedMetricWarning: Precision and F-score are ill-defined and being set to 0.0 in labels with no predicted samples. Use `zero_division` parameter to control this behavior.\n",
      "  _warn_prf(average, modifier, msg_start, len(result))\n",
      "/Users/SikCommunications/opt/anaconda3/lib/python3.8/site-packages/sklearn/metrics/_classification.py:1221: UndefinedMetricWarning: Recall and F-score are ill-defined and being set to 0.0 in labels with no true samples. Use `zero_division` parameter to control this behavior.\n",
      "  _warn_prf(average, modifier, msg_start, len(result))\n"
     ]
    }
   ],
   "source": [
    "# import the class\n",
    "from sklearn.linear_model import LogisticRegression\n",
    "from sklearn.model_selection import train_test_split\n",
    "from sklearn.metrics import classification_report\n",
    "from sklearn.metrics import confusion_matrix,accuracy_score\n",
    "# instantiate the model (using the default parameters)\n",
    "logreg = LogisticRegression()\n",
    "# fit the model with data\n",
    "logreg.fit(X_train,y_train)\n",
    "\n",
    "predictions = logreg.predict(X_test)\n",
    "print(classification_report(y_test, predictions))\n",
    "print(confusion_matrix(y_test, predictions))\n",
    "print(accuracy_score(y_test, predictions))\n"
   ]
  },
  {
   "cell_type": "code",
   "execution_count": null,
   "metadata": {},
   "outputs": [],
   "source": []
  },
  {
   "cell_type": "code",
   "execution_count": null,
   "metadata": {},
   "outputs": [],
   "source": []
  }
 ],
 "metadata": {
  "kernelspec": {
   "display_name": "Python 3",
   "language": "python",
   "name": "python3"
  },
  "language_info": {
   "codemirror_mode": {
    "name": "ipython",
    "version": 3
   },
   "file_extension": ".py",
   "mimetype": "text/x-python",
   "name": "python",
   "nbconvert_exporter": "python",
   "pygments_lexer": "ipython3",
   "version": "3.8.5"
  }
 },
 "nbformat": 4,
 "nbformat_minor": 4
}
