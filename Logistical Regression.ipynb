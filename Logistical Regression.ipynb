{
 "cells": [
  {
   "cell_type": "code",
   "execution_count": 9,
   "metadata": {},
   "outputs": [],
   "source": [
    "%matplotlib inline\n",
    "import matplotlib.pyplot as plt\n",
    "import numpy as np\n",
    "import pandas as pd"
   ]
  },
  {
   "cell_type": "code",
   "execution_count": 44,
   "metadata": {},
   "outputs": [
    {
     "data": {
      "text/html": [
       "<div>\n",
       "<style scoped>\n",
       "    .dataframe tbody tr th:only-of-type {\n",
       "        vertical-align: middle;\n",
       "    }\n",
       "\n",
       "    .dataframe tbody tr th {\n",
       "        vertical-align: top;\n",
       "    }\n",
       "\n",
       "    .dataframe thead th {\n",
       "        text-align: right;\n",
       "    }\n",
       "</style>\n",
       "<table border=\"1\" class=\"dataframe\">\n",
       "  <thead>\n",
       "    <tr style=\"text-align: right;\">\n",
       "      <th></th>\n",
       "      <th>Population 1 year and over</th>\n",
       "      <th>Same house 1 year ago</th>\n",
       "      <th>Same state of residence 1 year ago</th>\n",
       "      <th>Total_Incoming</th>\n",
       "      <th>Total_Outgoing</th>\n",
       "      <th>Net Migration</th>\n",
       "      <th>Avg. Home Price</th>\n",
       "      <th>Percent of Job Growth</th>\n",
       "      <th>Alabama</th>\n",
       "      <th>Alaska</th>\n",
       "      <th>...</th>\n",
       "      <th>Virginia</th>\n",
       "      <th>Washington</th>\n",
       "      <th>West Virginia</th>\n",
       "      <th>Wisconsin</th>\n",
       "      <th>Wyoming</th>\n",
       "      <th>Total</th>\n",
       "      <th>Puerto Rico</th>\n",
       "      <th>U.S. Island Area</th>\n",
       "      <th>Foreign Country4</th>\n",
       "      <th>Foreign Country</th>\n",
       "    </tr>\n",
       "    <tr>\n",
       "      <th>Current residence in</th>\n",
       "      <th></th>\n",
       "      <th></th>\n",
       "      <th></th>\n",
       "      <th></th>\n",
       "      <th></th>\n",
       "      <th></th>\n",
       "      <th></th>\n",
       "      <th></th>\n",
       "      <th></th>\n",
       "      <th></th>\n",
       "      <th></th>\n",
       "      <th></th>\n",
       "      <th></th>\n",
       "      <th></th>\n",
       "      <th></th>\n",
       "      <th></th>\n",
       "      <th></th>\n",
       "      <th></th>\n",
       "      <th></th>\n",
       "      <th></th>\n",
       "      <th></th>\n",
       "    </tr>\n",
       "  </thead>\n",
       "  <tbody>\n",
       "    <tr>\n",
       "      <th>Alabama</th>\n",
       "      <td>4819343</td>\n",
       "      <td>4158224</td>\n",
       "      <td>535649</td>\n",
       "      <td>111803</td>\n",
       "      <td>101466</td>\n",
       "      <td>10337</td>\n",
       "      <td>129174</td>\n",
       "      <td>1</td>\n",
       "      <td>0</td>\n",
       "      <td>424</td>\n",
       "      <td>...</td>\n",
       "      <td>4277</td>\n",
       "      <td>1289</td>\n",
       "      <td>1070</td>\n",
       "      <td>1121</td>\n",
       "      <td>104</td>\n",
       "      <td>13667</td>\n",
       "      <td>476</td>\n",
       "      <td>0</td>\n",
       "      <td>13191</td>\n",
       "      <td>0</td>\n",
       "    </tr>\n",
       "    <tr>\n",
       "      <th>Alaska</th>\n",
       "      <td>730874</td>\n",
       "      <td>595804</td>\n",
       "      <td>98168</td>\n",
       "      <td>30199</td>\n",
       "      <td>42972</td>\n",
       "      <td>-12773</td>\n",
       "      <td>291459</td>\n",
       "      <td>-1</td>\n",
       "      <td>942</td>\n",
       "      <td>0</td>\n",
       "      <td>...</td>\n",
       "      <td>360</td>\n",
       "      <td>3653</td>\n",
       "      <td>0</td>\n",
       "      <td>2500</td>\n",
       "      <td>6</td>\n",
       "      <td>6703</td>\n",
       "      <td>0</td>\n",
       "      <td>965</td>\n",
       "      <td>5738</td>\n",
       "      <td>0</td>\n",
       "    </tr>\n",
       "    <tr>\n",
       "      <th>Arizona</th>\n",
       "      <td>6935358</td>\n",
       "      <td>5717189</td>\n",
       "      <td>911120</td>\n",
       "      <td>261727</td>\n",
       "      <td>163214</td>\n",
       "      <td>98513</td>\n",
       "      <td>228363</td>\n",
       "      <td>3</td>\n",
       "      <td>1337</td>\n",
       "      <td>2255</td>\n",
       "      <td>...</td>\n",
       "      <td>3593</td>\n",
       "      <td>14392</td>\n",
       "      <td>318</td>\n",
       "      <td>3897</td>\n",
       "      <td>997</td>\n",
       "      <td>45322</td>\n",
       "      <td>438</td>\n",
       "      <td>91</td>\n",
       "      <td>44793</td>\n",
       "      <td>0</td>\n",
       "    </tr>\n",
       "    <tr>\n",
       "      <th>Arkansas</th>\n",
       "      <td>2968395</td>\n",
       "      <td>2509717</td>\n",
       "      <td>370309</td>\n",
       "      <td>79411</td>\n",
       "      <td>69850</td>\n",
       "      <td>9561</td>\n",
       "      <td>120987</td>\n",
       "      <td>1</td>\n",
       "      <td>574</td>\n",
       "      <td>241</td>\n",
       "      <td>...</td>\n",
       "      <td>1087</td>\n",
       "      <td>1539</td>\n",
       "      <td>0</td>\n",
       "      <td>958</td>\n",
       "      <td>12</td>\n",
       "      <td>8958</td>\n",
       "      <td>573</td>\n",
       "      <td>0</td>\n",
       "      <td>8385</td>\n",
       "      <td>0</td>\n",
       "    </tr>\n",
       "    <tr>\n",
       "      <th>California</th>\n",
       "      <td>39085984</td>\n",
       "      <td>34009331</td>\n",
       "      <td>4234770</td>\n",
       "      <td>523131</td>\n",
       "      <td>661026</td>\n",
       "      <td>-137895</td>\n",
       "      <td>508307</td>\n",
       "      <td>2</td>\n",
       "      <td>3715</td>\n",
       "      <td>2606</td>\n",
       "      <td>...</td>\n",
       "      <td>21162</td>\n",
       "      <td>33143</td>\n",
       "      <td>789</td>\n",
       "      <td>9348</td>\n",
       "      <td>1395</td>\n",
       "      <td>318752</td>\n",
       "      <td>1864</td>\n",
       "      <td>842</td>\n",
       "      <td>316046</td>\n",
       "      <td>0</td>\n",
       "    </tr>\n",
       "  </tbody>\n",
       "</table>\n",
       "<p>5 rows × 64 columns</p>\n",
       "</div>"
      ],
      "text/plain": [
       "                      Population 1 year and over  Same house 1 year ago  \\\n",
       "Current residence in                                                      \n",
       "Alabama                                  4819343                4158224   \n",
       "Alaska                                    730874                 595804   \n",
       "Arizona                                  6935358                5717189   \n",
       "Arkansas                                 2968395                2509717   \n",
       "California                              39085984               34009331   \n",
       "\n",
       "                      Same state of residence 1 year ago  Total_Incoming  \\\n",
       "Current residence in                                                       \n",
       "Alabama                                           535649          111803   \n",
       "Alaska                                             98168           30199   \n",
       "Arizona                                           911120          261727   \n",
       "Arkansas                                          370309           79411   \n",
       "California                                       4234770          523131   \n",
       "\n",
       "                      Total_Outgoing  Net Migration  Avg. Home Price  \\\n",
       "Current residence in                                                   \n",
       "Alabama                       101466          10337           129174   \n",
       "Alaska                         42972         -12773           291459   \n",
       "Arizona                       163214          98513           228363   \n",
       "Arkansas                       69850           9561           120987   \n",
       "California                    661026        -137895           508307   \n",
       "\n",
       "                      Percent of Job Growth  Alabama  Alaska  ...  Virginia  \\\n",
       "Current residence in                                          ...             \n",
       "Alabama                                   1        0     424  ...      4277   \n",
       "Alaska                                   -1      942       0  ...       360   \n",
       "Arizona                                   3     1337    2255  ...      3593   \n",
       "Arkansas                                  1      574     241  ...      1087   \n",
       "California                                2     3715    2606  ...     21162   \n",
       "\n",
       "                      Washington  West Virginia  Wisconsin  Wyoming   Total  \\\n",
       "Current residence in                                                          \n",
       "Alabama                     1289           1070       1121      104   13667   \n",
       "Alaska                      3653              0       2500        6    6703   \n",
       "Arizona                    14392            318       3897      997   45322   \n",
       "Arkansas                    1539              0        958       12    8958   \n",
       "California                 33143            789       9348     1395  318752   \n",
       "\n",
       "                      Puerto Rico  U.S. Island Area  Foreign Country4  \\\n",
       "Current residence in                                                    \n",
       "Alabama                       476                 0             13191   \n",
       "Alaska                          0               965              5738   \n",
       "Arizona                       438                91             44793   \n",
       "Arkansas                      573                 0              8385   \n",
       "California                   1864               842            316046   \n",
       "\n",
       "                      Foreign Country  \n",
       "Current residence in                   \n",
       "Alabama                             0  \n",
       "Alaska                              0  \n",
       "Arizona                             0  \n",
       "Arkansas                            0  \n",
       "California                          0  \n",
       "\n",
       "[5 rows x 64 columns]"
      ]
     },
     "execution_count": 44,
     "metadata": {},
     "output_type": "execute_result"
    }
   ],
   "source": [
    "alldata = pd.read_csv('combined_data_rounded.csv')\n",
    "alldata.set_index('Current residence in', inplace=True)\n",
    "alldata.head()"
   ]
  },
  {
   "cell_type": "code",
   "execution_count": 52,
   "metadata": {},
   "outputs": [],
   "source": [
    "#Set dependent and independent variables\n",
    "feature_cols = ['Net Migration', 'Percent of Job Growth']\n",
    "X = alldata[feature_cols] \n",
    "y = alldata['Avg. Home Price']"
   ]
  },
  {
   "cell_type": "code",
   "execution_count": 65,
   "metadata": {},
   "outputs": [],
   "source": [
    "from sklearn.model_selection import train_test_split\n",
    "X_train,X_test,y_train,y_test=train_test_split(X,y,test_size=0.25,random_state=42)"
   ]
  },
  {
   "cell_type": "code",
   "execution_count": 66,
   "metadata": {},
   "outputs": [],
   "source": [
    "# import the class\n",
    "from sklearn.linear_model import LogisticRegression\n",
    "\n",
    "# instantiate the model (using the default parameters)\n",
    "logreg = LogisticRegression(solver='lbfgs',class_weight='balanced', max_iter=10000)\n",
    "# fit the model with data\n",
    "logreg.fit(X_train,y_train)\n",
    "\n",
    "\n",
    "y_pred=logreg.predict(X_test)"
   ]
  },
  {
   "cell_type": "code",
   "execution_count": 67,
   "metadata": {},
   "outputs": [
    {
     "data": {
      "text/plain": [
       "array([[0, 0, 0, ..., 0, 0, 0],\n",
       "       [0, 0, 0, ..., 0, 0, 0],\n",
       "       [0, 0, 0, ..., 0, 0, 0],\n",
       "       ...,\n",
       "       [0, 0, 0, ..., 0, 0, 0],\n",
       "       [0, 0, 0, ..., 0, 0, 0],\n",
       "       [0, 0, 0, ..., 0, 0, 0]], dtype=int64)"
      ]
     },
     "execution_count": 67,
     "metadata": {},
     "output_type": "execute_result"
    }
   ],
   "source": [
    "from sklearn import metrics\n",
    "cnf_matrix = metrics.confusion_matrix(y_test, y_pred)\n",
    "cnf_matrix"
   ]
  },
  {
   "cell_type": "code",
   "execution_count": 68,
   "metadata": {},
   "outputs": [],
   "source": [
    "import numpy as np\n",
    "import matplotlib.pyplot as plt\n",
    "import seaborn as sns\n",
    "from sklearn.metrics import accuracy_score\n",
    "from sklearn.metrics import precision_score\n",
    "from sklearn.metrics import recall_score\n",
    "%matplotlib inline"
   ]
  },
  {
   "cell_type": "code",
   "execution_count": 69,
   "metadata": {},
   "outputs": [
    {
     "data": {
      "text/plain": [
       "Text(0.5, 257.44, 'Predicted label')"
      ]
     },
     "execution_count": 69,
     "metadata": {},
     "output_type": "execute_result"
    },
    {
     "data": {
      "image/png": "[encoded data removed]",
      "text/plain": [
       "<Figure size 432x288 with 2 Axes>"
      ]
     },
     "metadata": {
      "needs_background": "light"
     },
     "output_type": "display_data"
    }
   ],
   "source": [
    "class_names=[0,1] \n",
    "fig, ax = plt.subplots()\n",
    "tick_marks = np.arange(len(class_names))\n",
    "plt.xticks(tick_marks, class_names)\n",
    "plt.yticks(tick_marks, class_names)\n",
    "# create heatmap\n",
    "sns.heatmap(pd.DataFrame(cnf_matrix), annot=True, cmap=\"YlGnBu\" ,fmt='g')\n",
    "ax.xaxis.set_label_position(\"top\")\n",
    "plt.tight_layout()\n",
    "plt.title('Confusion matrix', y=1.1)\n",
    "plt.ylabel('Actual label')\n",
    "plt.xlabel('Predicted label')"
   ]
  },
  {
   "cell_type": "code",
   "execution_count": 70,
   "metadata": {},
   "outputs": [
    {
     "name": "stdout",
     "output_type": "stream",
     "text": [
      "Accuracy: 0.0\n",
      "Precision: 0.0\n",
      "Recall: 0.0\n"
     ]
    },
    {
     "name": "stderr",
     "output_type": "stream",
     "text": [
      "C:\\Users\\asrit\\Anaconda3\\lib\\site-packages\\sklearn\\metrics\\_classification.py:1272: UndefinedMetricWarning: Precision is ill-defined and being set to 0.0 in labels with no predicted samples. Use `zero_division` parameter to control this behavior.\n",
      "  _warn_prf(average, modifier, msg_start, len(result))\n",
      "C:\\Users\\asrit\\Anaconda3\\lib\\site-packages\\sklearn\\metrics\\_classification.py:1272: UndefinedMetricWarning: Recall is ill-defined and being set to 0.0 in labels with no true samples. Use `zero_division` parameter to control this behavior.\n",
      "  _warn_prf(average, modifier, msg_start, len(result))\n"
     ]
    }
   ],
   "source": [
    "print(\"Accuracy:\",metrics.accuracy_score(y_test, y_pred))\n",
    "print(\"Precision:\",metrics.precision_score(y_test, y_pred,average= 'weighted'))\n",
    "print(\"Recall:\",metrics.recall_score(y_test, y_pred, average= 'weighted'))"
   ]
  },
  {
   "cell_type": "code",
   "execution_count": null,
   "metadata": {},
   "outputs": [],
   "source": []
  },
  {
   "cell_type": "code",
   "execution_count": null,
   "metadata": {},
   "outputs": [],
   "source": []
  }
 ],
 "metadata": {
  "kernelspec": {
   "display_name": "Python 3",
   "language": "python",
   "name": "python3"
  },
  "language_info": {
   "codemirror_mode": {
    "name": "ipython",
    "version": 3
   },
   "file_extension": ".py",
   "mimetype": "text/x-python",
   "name": "python",
   "nbconvert_exporter": "python",
   "pygments_lexer": "ipython3",
   "version": "3.7.6"
  }
 },
 "nbformat": 4,
 "nbformat_minor": 4
}
