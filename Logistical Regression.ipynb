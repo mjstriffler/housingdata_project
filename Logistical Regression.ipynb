{
 "cells": [
  {
   "cell_type": "code",
   "execution_count": 1,
   "metadata": {},
   "outputs": [],
   "source": [
    "%matplotlib inline\n",
    "import matplotlib.pyplot as plt\n",
    "import numpy as np\n",
    "import pandas as pd"
   ]
  },
  {
   "cell_type": "code",
   "execution_count": 2,
   "metadata": {},
   "outputs": [
    {
     "data": {
      "text/html": [
       "<div>\n",
       "<style scoped>\n",
       "    .dataframe tbody tr th:only-of-type {\n",
       "        vertical-align: middle;\n",
       "    }\n",
       "\n",
       "    .dataframe tbody tr th {\n",
       "        vertical-align: top;\n",
       "    }\n",
       "\n",
       "    .dataframe thead th {\n",
       "        text-align: right;\n",
       "    }\n",
       "</style>\n",
       "<table border=\"1\" class=\"dataframe\">\n",
       "  <thead>\n",
       "    <tr style=\"text-align: right;\">\n",
       "      <th></th>\n",
       "      <th>Current residence in</th>\n",
       "      <th>Population 1 year and over</th>\n",
       "      <th>Same house 1 year ago</th>\n",
       "      <th>Same state of residence 1 year ago</th>\n",
       "      <th>Total_Incoming</th>\n",
       "      <th>Total_Outgoing</th>\n",
       "      <th>Net Migration</th>\n",
       "      <th>Avg. Home Price</th>\n",
       "      <th>Percent of Job Growth</th>\n",
       "      <th>Alabama</th>\n",
       "      <th>...</th>\n",
       "      <th>Virginia</th>\n",
       "      <th>Washington</th>\n",
       "      <th>West Virginia</th>\n",
       "      <th>Wisconsin</th>\n",
       "      <th>Wyoming</th>\n",
       "      <th>Total</th>\n",
       "      <th>Puerto Rico</th>\n",
       "      <th>U.S. Island Area</th>\n",
       "      <th>Foreign Country4</th>\n",
       "      <th>Foreign Country</th>\n",
       "    </tr>\n",
       "  </thead>\n",
       "  <tbody>\n",
       "    <tr>\n",
       "      <th>0</th>\n",
       "      <td>Alabama</td>\n",
       "      <td>4819343</td>\n",
       "      <td>4158224</td>\n",
       "      <td>535649</td>\n",
       "      <td>111803</td>\n",
       "      <td>101466</td>\n",
       "      <td>10337</td>\n",
       "      <td>129174</td>\n",
       "      <td>1</td>\n",
       "      <td>0</td>\n",
       "      <td>...</td>\n",
       "      <td>4277</td>\n",
       "      <td>1289</td>\n",
       "      <td>1070</td>\n",
       "      <td>1121</td>\n",
       "      <td>104</td>\n",
       "      <td>13667</td>\n",
       "      <td>476</td>\n",
       "      <td>0</td>\n",
       "      <td>13191</td>\n",
       "      <td>0</td>\n",
       "    </tr>\n",
       "    <tr>\n",
       "      <th>1</th>\n",
       "      <td>Alaska</td>\n",
       "      <td>730874</td>\n",
       "      <td>595804</td>\n",
       "      <td>98168</td>\n",
       "      <td>30199</td>\n",
       "      <td>42972</td>\n",
       "      <td>-12773</td>\n",
       "      <td>291459</td>\n",
       "      <td>-1</td>\n",
       "      <td>942</td>\n",
       "      <td>...</td>\n",
       "      <td>360</td>\n",
       "      <td>3653</td>\n",
       "      <td>0</td>\n",
       "      <td>2500</td>\n",
       "      <td>6</td>\n",
       "      <td>6703</td>\n",
       "      <td>0</td>\n",
       "      <td>965</td>\n",
       "      <td>5738</td>\n",
       "      <td>0</td>\n",
       "    </tr>\n",
       "    <tr>\n",
       "      <th>2</th>\n",
       "      <td>Arizona</td>\n",
       "      <td>6935358</td>\n",
       "      <td>5717189</td>\n",
       "      <td>911120</td>\n",
       "      <td>261727</td>\n",
       "      <td>163214</td>\n",
       "      <td>98513</td>\n",
       "      <td>228363</td>\n",
       "      <td>3</td>\n",
       "      <td>1337</td>\n",
       "      <td>...</td>\n",
       "      <td>3593</td>\n",
       "      <td>14392</td>\n",
       "      <td>318</td>\n",
       "      <td>3897</td>\n",
       "      <td>997</td>\n",
       "      <td>45322</td>\n",
       "      <td>438</td>\n",
       "      <td>91</td>\n",
       "      <td>44793</td>\n",
       "      <td>0</td>\n",
       "    </tr>\n",
       "    <tr>\n",
       "      <th>3</th>\n",
       "      <td>Arkansas</td>\n",
       "      <td>2968395</td>\n",
       "      <td>2509717</td>\n",
       "      <td>370309</td>\n",
       "      <td>79411</td>\n",
       "      <td>69850</td>\n",
       "      <td>9561</td>\n",
       "      <td>120987</td>\n",
       "      <td>1</td>\n",
       "      <td>574</td>\n",
       "      <td>...</td>\n",
       "      <td>1087</td>\n",
       "      <td>1539</td>\n",
       "      <td>0</td>\n",
       "      <td>958</td>\n",
       "      <td>12</td>\n",
       "      <td>8958</td>\n",
       "      <td>573</td>\n",
       "      <td>0</td>\n",
       "      <td>8385</td>\n",
       "      <td>0</td>\n",
       "    </tr>\n",
       "    <tr>\n",
       "      <th>4</th>\n",
       "      <td>California</td>\n",
       "      <td>39085984</td>\n",
       "      <td>34009331</td>\n",
       "      <td>4234770</td>\n",
       "      <td>523131</td>\n",
       "      <td>661026</td>\n",
       "      <td>-137895</td>\n",
       "      <td>508307</td>\n",
       "      <td>2</td>\n",
       "      <td>3715</td>\n",
       "      <td>...</td>\n",
       "      <td>21162</td>\n",
       "      <td>33143</td>\n",
       "      <td>789</td>\n",
       "      <td>9348</td>\n",
       "      <td>1395</td>\n",
       "      <td>318752</td>\n",
       "      <td>1864</td>\n",
       "      <td>842</td>\n",
       "      <td>316046</td>\n",
       "      <td>0</td>\n",
       "    </tr>\n",
       "  </tbody>\n",
       "</table>\n",
       "<p>5 rows × 65 columns</p>\n",
       "</div>"
      ],
      "text/plain": [
       "  Current residence in  Population 1 year and over  Same house 1 year ago  \\\n",
       "0              Alabama                     4819343                4158224   \n",
       "1               Alaska                      730874                 595804   \n",
       "2              Arizona                     6935358                5717189   \n",
       "3             Arkansas                     2968395                2509717   \n",
       "4           California                    39085984               34009331   \n",
       "\n",
       "   Same state of residence 1 year ago  Total_Incoming  Total_Outgoing  \\\n",
       "0                              535649          111803          101466   \n",
       "1                               98168           30199           42972   \n",
       "2                              911120          261727          163214   \n",
       "3                              370309           79411           69850   \n",
       "4                             4234770          523131          661026   \n",
       "\n",
       "   Net Migration  Avg. Home Price  Percent of Job Growth  Alabama  ...  \\\n",
       "0          10337           129174                      1        0  ...   \n",
       "1         -12773           291459                     -1      942  ...   \n",
       "2          98513           228363                      3     1337  ...   \n",
       "3           9561           120987                      1      574  ...   \n",
       "4        -137895           508307                      2     3715  ...   \n",
       "\n",
       "   Virginia  Washington  West Virginia  Wisconsin  Wyoming   Total  \\\n",
       "0      4277        1289           1070       1121      104   13667   \n",
       "1       360        3653              0       2500        6    6703   \n",
       "2      3593       14392            318       3897      997   45322   \n",
       "3      1087        1539              0        958       12    8958   \n",
       "4     21162       33143            789       9348     1395  318752   \n",
       "\n",
       "   Puerto Rico  U.S. Island Area  Foreign Country4  Foreign Country  \n",
       "0          476                 0             13191                0  \n",
       "1            0               965              5738                0  \n",
       "2          438                91             44793                0  \n",
       "3          573                 0              8385                0  \n",
       "4         1864               842            316046                0  \n",
       "\n",
       "[5 rows x 65 columns]"
      ]
     },
     "execution_count": 2,
     "metadata": {},
     "output_type": "execute_result"
    }
   ],
   "source": [
    "alldata = pd.read_csv('combined_data_rounded.csv')\n",
    "alldata.head()"
   ]
  },
  {
   "cell_type": "code",
   "execution_count": 3,
   "metadata": {},
   "outputs": [],
   "source": [
    "#Set dependent and independent variables\n",
    "feature_cols = ['Net Migration','Percent of Job Growth']\n",
    "X = alldata[feature_cols] \n",
    "y = alldata['Avg. Home Price']"
   ]
  },
  {
   "cell_type": "code",
   "execution_count": 4,
   "metadata": {},
   "outputs": [],
   "source": [
    "from sklearn.model_selection import train_test_split\n",
    "X_train,X_test,y_train,y_test=train_test_split(X,y,test_size=0.25,random_state=0)"
   ]
  },
  {
   "cell_type": "code",
   "execution_count": 5,
   "metadata": {},
   "outputs": [],
   "source": [
    "# import the class\n",
    "from sklearn.linear_model import LogisticRegression\n",
    "\n",
    "# instantiate the model (using the default parameters)\n",
    "logreg = LogisticRegression(solver='lbfgs',class_weight='balanced', max_iter=10000)\n",
    "# fit the model with data\n",
    "logreg.fit(X_train,y_train)\n",
    "\n",
    "\n",
    "y_pred=logreg.predict(X_test)"
   ]
  },
  {
   "cell_type": "code",
   "execution_count": 6,
   "metadata": {},
   "outputs": [
    {
     "data": {
      "text/plain": [
       "array([[0, 0, 0, ..., 0, 0, 0],\n",
       "       [0, 0, 0, ..., 1, 0, 0],\n",
       "       [0, 0, 0, ..., 0, 0, 0],\n",
       "       ...,\n",
       "       [0, 0, 0, ..., 0, 0, 0],\n",
       "       [0, 0, 0, ..., 1, 0, 0],\n",
       "       [0, 0, 0, ..., 1, 0, 0]])"
      ]
     },
     "execution_count": 6,
     "metadata": {},
     "output_type": "execute_result"
    }
   ],
   "source": [
    "from sklearn import metrics\n",
    "cnf_matrix = metrics.confusion_matrix(y_test, y_pred)\n",
    "cnf_matrix"
   ]
  },
  {
   "cell_type": "code",
   "execution_count": 7,
   "metadata": {},
   "outputs": [],
   "source": [
    "import numpy as np\n",
    "import matplotlib.pyplot as plt\n",
    "import seaborn as sns\n",
    "from sklearn.metrics import accuracy_score\n",
    "from sklearn.metrics import precision_score\n",
    "from sklearn.metrics import recall_score\n",
    "%matplotlib inline"
   ]
  },
  {
   "cell_type": "code",
   "execution_count": 8,
   "metadata": {},
   "outputs": [
    {
     "data": {
      "text/plain": [
       "Text(0.5, 257.44, 'Predicted label')"
      ]
     },
     "execution_count": 8,
     "metadata": {},
     "output_type": "execute_result"
    },
    {
     "data": {
      "image/png": "[encoded data removed]",
      "text/plain": [
       "<Figure size 432x288 with 2 Axes>"
      ]
     },
     "metadata": {
      "needs_background": "light"
     },
     "output_type": "display_data"
    }
   ],
   "source": [
    "class_names=[0,1] \n",
    "fig, ax = plt.subplots()\n",
    "tick_marks = np.arange(len(class_names))\n",
    "plt.xticks(tick_marks, class_names)\n",
    "plt.yticks(tick_marks, class_names)\n",
    "# create heatmap\n",
    "sns.heatmap(pd.DataFrame(cnf_matrix), annot=True, cmap=\"YlGnBu\" ,fmt='g')\n",
    "ax.xaxis.set_label_position(\"top\")\n",
    "plt.tight_layout()\n",
    "plt.title('Confusion matrix', y=1.1)\n",
    "plt.ylabel('Actual label')\n",
    "plt.xlabel('Predicted label')"
   ]
  },
  {
   "cell_type": "code",
   "execution_count": 12,
   "metadata": {},
   "outputs": [
    {
     "ename": "TypeError",
     "evalue": "accuracy_score() got an unexpected keyword argument 'average'",
     "output_type": "error",
     "traceback": [
      "\u001b[0;31m---------------------------------------------------------------------------\u001b[0m",
      "\u001b[0;31mTypeError\u001b[0m                                 Traceback (most recent call last)",
      "\u001b[0;32m<ipython-input-12-8ad14f59d425>\u001b[0m in \u001b[0;36m<module>\u001b[0;34m\u001b[0m\n\u001b[0;32m----> 1\u001b[0;31m \u001b[0mprint\u001b[0m\u001b[0;34m(\u001b[0m\u001b[0;34m\"Accuracy:\"\u001b[0m\u001b[0;34m,\u001b[0m\u001b[0mmetrics\u001b[0m\u001b[0;34m.\u001b[0m\u001b[0maccuracy_score\u001b[0m\u001b[0;34m(\u001b[0m\u001b[0my_test\u001b[0m\u001b[0;34m,\u001b[0m \u001b[0my_pred\u001b[0m\u001b[0;34m,\u001b[0m \u001b[0maverage\u001b[0m \u001b[0;34m=\u001b[0m \u001b[0;34m\"micro\"\u001b[0m\u001b[0;34m)\u001b[0m\u001b[0;34m)\u001b[0m\u001b[0;34m\u001b[0m\u001b[0;34m\u001b[0m\u001b[0m\n\u001b[0m\u001b[1;32m      2\u001b[0m \u001b[0mprint\u001b[0m\u001b[0;34m(\u001b[0m\u001b[0;34m\"Precision:\"\u001b[0m\u001b[0;34m,\u001b[0m\u001b[0mmetrics\u001b[0m\u001b[0;34m.\u001b[0m\u001b[0mprecision_score\u001b[0m\u001b[0;34m(\u001b[0m\u001b[0my_test\u001b[0m\u001b[0;34m,\u001b[0m \u001b[0my_pred\u001b[0m\u001b[0;34m)\u001b[0m\u001b[0;34m)\u001b[0m\u001b[0;34m\u001b[0m\u001b[0;34m\u001b[0m\u001b[0m\n\u001b[1;32m      3\u001b[0m \u001b[0mprint\u001b[0m\u001b[0;34m(\u001b[0m\u001b[0;34m\"Recall:\"\u001b[0m\u001b[0;34m,\u001b[0m\u001b[0mmetrics\u001b[0m\u001b[0;34m.\u001b[0m\u001b[0mrecall_score\u001b[0m\u001b[0;34m(\u001b[0m\u001b[0my_test\u001b[0m\u001b[0;34m,\u001b[0m \u001b[0my_pred\u001b[0m\u001b[0;34m)\u001b[0m\u001b[0;34m)\u001b[0m\u001b[0;34m\u001b[0m\u001b[0;34m\u001b[0m\u001b[0m\n",
      "\u001b[0;32m~/opt/anaconda3/lib/python3.7/site-packages/sklearn/utils/validation.py\u001b[0m in \u001b[0;36minner_f\u001b[0;34m(*args, **kwargs)\u001b[0m\n\u001b[1;32m     61\u001b[0m             \u001b[0mextra_args\u001b[0m \u001b[0;34m=\u001b[0m \u001b[0mlen\u001b[0m\u001b[0;34m(\u001b[0m\u001b[0margs\u001b[0m\u001b[0;34m)\u001b[0m \u001b[0;34m-\u001b[0m \u001b[0mlen\u001b[0m\u001b[0;34m(\u001b[0m\u001b[0mall_args\u001b[0m\u001b[0;34m)\u001b[0m\u001b[0;34m\u001b[0m\u001b[0;34m\u001b[0m\u001b[0m\n\u001b[1;32m     62\u001b[0m             \u001b[0;32mif\u001b[0m \u001b[0mextra_args\u001b[0m \u001b[0;34m<=\u001b[0m \u001b[0;36m0\u001b[0m\u001b[0;34m:\u001b[0m\u001b[0;34m\u001b[0m\u001b[0;34m\u001b[0m\u001b[0m\n\u001b[0;32m---> 63\u001b[0;31m                 \u001b[0;32mreturn\u001b[0m \u001b[0mf\u001b[0m\u001b[0;34m(\u001b[0m\u001b[0;34m*\u001b[0m\u001b[0margs\u001b[0m\u001b[0;34m,\u001b[0m \u001b[0;34m**\u001b[0m\u001b[0mkwargs\u001b[0m\u001b[0;34m)\u001b[0m\u001b[0;34m\u001b[0m\u001b[0;34m\u001b[0m\u001b[0m\n\u001b[0m\u001b[1;32m     64\u001b[0m \u001b[0;34m\u001b[0m\u001b[0m\n\u001b[1;32m     65\u001b[0m             \u001b[0;31m# extra_args > 0\u001b[0m\u001b[0;34m\u001b[0m\u001b[0;34m\u001b[0m\u001b[0;34m\u001b[0m\u001b[0m\n",
      "\u001b[0;31mTypeError\u001b[0m: accuracy_score() got an unexpected keyword argument 'average'"
     ]
    }
   ],
   "source": [
    "print(\"Accuracy:\",metrics.accuracy_score(y_test, y_pred, average = \"micro\"))\n",
    "print(\"Precision:\",metrics.precision_score(y_test, y_pred))\n",
    "print(\"Recall:\",metrics.recall_score(y_test, y_pred))"
   ]
  },
  {
   "cell_type": "code",
   "execution_count": null,
   "metadata": {},
   "outputs": [],
   "source": []
  },
  {
   "cell_type": "code",
   "execution_count": null,
   "metadata": {},
   "outputs": [],
   "source": []
  }
 ],
 "metadata": {
  "kernelspec": {
   "display_name": "Python 3",
   "language": "python",
   "name": "python3"
  },
  "language_info": {
   "codemirror_mode": {
    "name": "ipython",
    "version": 3
   },
   "file_extension": ".py",
   "mimetype": "text/x-python",
   "name": "python",
   "nbconvert_exporter": "python",
   "pygments_lexer": "ipython3",
   "version": "3.7.6"
  }
 },
 "nbformat": 4,
 "nbformat_minor": 4
}
